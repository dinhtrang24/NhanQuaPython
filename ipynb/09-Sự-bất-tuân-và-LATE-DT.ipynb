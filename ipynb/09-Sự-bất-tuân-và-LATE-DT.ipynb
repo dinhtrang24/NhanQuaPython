{
 "cells": [
  {
   "cell_type": "markdown",
   "metadata": {
    "toc": true
   },
   "source": [
    "<h1>Table of Contents<span class=\"tocSkip\"></span></h1>\n",
    "<div class=\"toc\"><ul class=\"toc-item\"><li><span><a href=\"#Nhón-chân-vào-Thế-giới-dị-biệt\" data-toc-modified-id=\"Nhón-chân-vào-Thế-giới-dị-biệt-1\"><span class=\"toc-item-num\">1&nbsp;&nbsp;</span>Nhón chân vào Thế giới dị biệt</a></span></li><li><span><a href=\"#Local-Average-Treatment-Effect:-LATE\" data-toc-modified-id=\"Local-Average-Treatment-Effect:-LATE-2\"><span class=\"toc-item-num\">2&nbsp;&nbsp;</span>Tác Động Can Thiệp Bình Quân Cục Bộ: LATE</a></span></li><li><span><a href=\"#Tác-động-lên-sự-tương-tác\" data-toc-modified-id=\"Tác-động-lên-sự-tương-tác-3\"><span class=\"toc-item-num\">3&nbsp;&nbsp;</span>Tác động lên sự tương tác</a></span></li><li><span><a href=\"#Ý-tưởng-chủ-đạo\" data-toc-modified-id=\"Ý-tưởng-chủ-đạo-4\"><span class=\"toc-item-num\">4&nbsp;&nbsp;</span>Ý tưởng chủ đạo</a></span></li><li><span><a href=\"#Tài-liệu-tham-khảo\" data-toc-modified-id=\"Tài-liệu-tham-khảo-5\"><span class=\"toc-item-num\">5&nbsp;&nbsp;</span>Tài liệu tham khảo</a></span></li></ul></div>"
   ]
  },
  {
   "cell_type": "markdown",
   "metadata": {},
   "source": [
    "## Nhón chân vào Thế giới dị biệt\n",
    "\n",
    "Nhiều hiểu biết sâu sắc về việc áp dụng IV (Instrumental Variable) hiện đại được rút ra từ y học. Nhìn chung nó phân chia bốn loại đối tượng phụ thuộc vào cách phản ứng với biến công cụ.\n",
    "\n",
    "1. Người tuân thủ\n",
    "2. Người luôn không nhận\n",
    "3. Người luôn nhận\n",
    "4. Người chống đối\n",
    "\n",
    "Cách đặt tên này xuất phát từ dược học. Hãy tưởng tượng bạn đang tiến hành một thử nghiệm để kiểm tra tác dụng của một loại thuốc mới đối với một vài loại bệnh. Mỗi đối tượng được chỉ định một phương pháp điều trị: thuốc hoặc giả dược. Người tuân thủ là những đối tượng nghe theo chỉ định. Nếu họ được chỉ định dùng giả dược, họ dùng giả dược; nếu họ được chỉ định dùng thuốc, họ dùng thuốc. Người luôn không nhận là những đối tượng từ chối dùng thuốc. Ngay cả khi họ được chỉ định dùng loại thuốc mới, họ cũng sẽ không sử dụng chúng. Mặt khác, người luôn nhận là những người mà bằng một cách nào đó luôn lấy được thuốc mới cho dù họ được chỉ định dùng giả dược. Cuối cùng, người chống đối là những người nhận điều trị nếu được chỉ định vào nhóm đối chứng và không nhận điều trị nếu được chỉ định điều trị. Hay nói cách khác, người chống đối là nhóm luôn làm trái với chỉ định. Trong thực tế, nhóm này không quá phổ biến nên chúng ta thường bỏ qua.\n",
    "\n",
    "![img](./data/img/late/defiers.png)\n",
    "\n",
    "IV hiện đại coi biến công cụ như một thiết kế bán can thiệp mà tính tuân thủ không đạt mức hoàn hảo. Do đó nó phân biệt tính nội suy và tính ngoại suy của tác động nhân quả. Xin nhắc lại, một tác động có tính nội suy là một tác động mà chúng ta có thể xác định. Nó phù hợp trong một hoàn cảnh cụ thể với dữ liệu cụ thể. Trong trường hợp IV, nó là tác động can thiệp đối với những đối tượng mà biến công cụ làm thay đổi sự can thiệp. Mặt khác, tính ngoại suy lại liên quan đến khả năng dự đoán của tác động nhân quả. Một câu hỏi sẽ được đưa ra là liệu chúng ta có nên khái quát hoát tác động mà chúng ta tìm thấy đối với các mẫu khác hay không. Ví dụ, giả sử bạn đang thực hiện một RCT trong trường đại học để tìm hiểu xem mọi người có hào phóng hay không khi họ nhận được một phần thưởng nếu làm từ thiện. Thử nghiệm được thiết kế tốt, tuy nhiên bạn chỉ mời những sinh viên ngành kinh tế tham gia. Sau đó bạn nhận thấy rằng tất cả họ đều là những kẻ ích kỷ. Đó là một kết luận có tính nội suy. Nó phù hợp cho những điểm dữ liệu đó. Tuy nhiên, từ thử nghiệm này, liệu bạn có thể suy ra rằng loài người là một giống loài ích kỷ? Điều này gần như không thể xảy ra. Vì thế chúng ta đặt ra câu hỏi liệu thử nghiệm của bạn có tính ngoại suy để khái quát hoá kết qủa thử nghiệm hay không. Dù sao đi nữa, hãy quay trở lại với IV.\n",
    "\n",
    "Trong một ví dụ cụ thể hơn, xem xét trường hợp bạn muốn tăng lượng người dùng tương tác được đo bằng lượng mua trong ứng dụng. Một cách để làm điều này là bạn có thể yêu cầu bộ phận marketing đưa ra một gói khuyến mại để thu hút khách hàng. Bộ phận marketing cho ra mắt một thiết kế ấn tượng với giao diện tương tác hấp dẫn. Với chiến lược này, bạn chuyển sang thiết kế một thử nghiệm ngẫu nhiên. Bạn chọn ngẫu nhiên 10.000 khách hàng, với xác suất mỗi người nhận được gói khuyến mại là 50%. Tuy nhiên, khi tiến hành thử nghiệm, bạn nhận ra có một số khách hàng được chỉ định nhận gói khuyến mại nhưng thực tế lại không nhận được. Khi trao đổi với các kỹ sư lập trình, họ cho rằng có thể do khách hàng sử dụng điện thoại đời cũ nên không được hỗ trợ cài đặt gói khuyến mại nhóm marketing đã thiết kế. \n",
    "\n",
    "Lúc đầu, bạn có thể cho rằng đây không phải là vấn đề đáng lo ngại. Thay vì sử dụng chỉ định can thiệp làm biến can thiệp, bạn có thể sử dụng biến tiếp nhận can thiệp phải không? Tuy nhiên, vấn đề hoá ra không đơn giản như vậy. Nếu nhìn vào biểu đồ nhân quả của toàn bộ tình huống này, bạn sẽ thấy:\n"
   ]
  },
  {
   "cell_type": "code",
   "execution_count": 1,
   "metadata": {},
   "outputs": [],
   "source": [
    "import warnings\n",
    "warnings.filterwarnings('ignore')\n",
    "\n",
    "import pandas as pd\n",
    "import numpy as np\n",
    "from scipy import stats\n",
    "from matplotlib import style\n",
    "import seaborn as sns\n",
    "from matplotlib import pyplot as plt\n",
    "import statsmodels.formula.api as smf\n",
    "from linearmodels.iv import IV2SLS\n",
    "import graphviz as gr\n",
    "\n",
    "%matplotlib inline\n",
    "\n",
    "style.use(\"fivethirtyeight\")"
   ]
  },
  {
   "cell_type": "code",
   "execution_count": 2,
   "metadata": {},
   "outputs": [
    {
     "data": {
      "image/svg+xml": [
       "<?xml version=\"1.0\" encoding=\"UTF-8\" standalone=\"no\"?>\n",
       "<!DOCTYPE svg PUBLIC \"-//W3C//DTD SVG 1.1//EN\"\n",
       " \"http://www.w3.org/Graphics/SVG/1.1/DTD/svg11.dtd\">\n",
       "<!-- Generated by graphviz version 2.40.1 (20161225.0304)\n",
       " -->\n",
       "<!-- Title: %3 Pages: 1 -->\n",
       "<svg width=\"192pt\" height=\"188pt\"\n",
       " viewBox=\"0.00 0.00 191.54 188.00\" xmlns=\"http://www.w3.org/2000/svg\" xmlns:xlink=\"http://www.w3.org/1999/xlink\">\n",
       "<g id=\"graph0\" class=\"graph\" transform=\"scale(1 1) rotate(0) translate(4 184)\">\n",
       "<title>%3</title>\n",
       "<polygon fill=\"#ffffff\" stroke=\"transparent\" points=\"-4,4 -4,-184 187.5427,-184 187.5427,4 -4,4\"/>\n",
       "<!-- chỉ định -->\n",
       "<g id=\"node1\" class=\"node\">\n",
       "<title>chỉ định</title>\n",
       "<ellipse fill=\"none\" stroke=\"#000000\" cx=\"40.2964\" cy=\"-162\" rx=\"40.0939\" ry=\"18\"/>\n",
       "<text text-anchor=\"middle\" x=\"40.2964\" y=\"-158.3\" font-family=\"Times,serif\" font-size=\"14.00\" fill=\"#000000\">chỉ định</text>\n",
       "</g>\n",
       "<!-- tiếp nhận -->\n",
       "<g id=\"node2\" class=\"node\">\n",
       "<title>tiếp nhận</title>\n",
       "<ellipse fill=\"none\" stroke=\"#000000\" cx=\"68.2964\" cy=\"-90\" rx=\"44.6926\" ry=\"18\"/>\n",
       "<text text-anchor=\"middle\" x=\"68.2964\" y=\"-86.3\" font-family=\"Times,serif\" font-size=\"14.00\" fill=\"#000000\">tiếp nhận</text>\n",
       "</g>\n",
       "<!-- chỉ định&#45;&gt;tiếp nhận -->\n",
       "<g id=\"edge1\" class=\"edge\">\n",
       "<title>chỉ định&#45;&gt;tiếp nhận</title>\n",
       "<path fill=\"none\" stroke=\"#000000\" d=\"M47.2178,-144.2022C50.3813,-136.0675 54.1992,-126.2501 57.7116,-117.2181\"/>\n",
       "<polygon fill=\"#000000\" stroke=\"#000000\" points=\"60.9951,-118.4312 61.3577,-107.8425 54.4711,-115.894 60.9951,-118.4312\"/>\n",
       "</g>\n",
       "<!-- lượng mua -->\n",
       "<g id=\"node3\" class=\"node\">\n",
       "<title>lượng mua</title>\n",
       "<ellipse fill=\"none\" stroke=\"#000000\" cx=\"104.2964\" cy=\"-18\" rx=\"50.8918\" ry=\"18\"/>\n",
       "<text text-anchor=\"middle\" x=\"104.2964\" y=\"-14.3\" font-family=\"Times,serif\" font-size=\"14.00\" fill=\"#000000\">lượng mua</text>\n",
       "</g>\n",
       "<!-- tiếp nhận&#45;&gt;lượng mua -->\n",
       "<g id=\"edge2\" class=\"edge\">\n",
       "<title>tiếp nhận&#45;&gt;lượng mua</title>\n",
       "<path fill=\"none\" stroke=\"#000000\" d=\"M77.1953,-72.2022C81.3059,-63.981 86.2759,-54.041 90.8314,-44.9301\"/>\n",
       "<polygon fill=\"#000000\" stroke=\"#000000\" points=\"94.0335,-46.3521 95.3752,-35.8425 87.7725,-43.2216 94.0335,-46.3521\"/>\n",
       "</g>\n",
       "<!-- thu nhập -->\n",
       "<g id=\"node4\" class=\"node\">\n",
       "<title>thu nhập</title>\n",
       "<ellipse fill=\"none\" stroke=\"#0000ff\" cx=\"141.2964\" cy=\"-162\" rx=\"42.4939\" ry=\"18\"/>\n",
       "<text text-anchor=\"middle\" x=\"141.2964\" y=\"-158.3\" font-family=\"Times,serif\" font-size=\"14.00\" fill=\"#000000\">thu nhập</text>\n",
       "</g>\n",
       "<!-- thu nhập&#45;&gt;tiếp nhận -->\n",
       "<g id=\"edge4\" class=\"edge\">\n",
       "<title>thu nhập&#45;&gt;tiếp nhận</title>\n",
       "<path fill=\"none\" stroke=\"#000000\" d=\"M124.3653,-145.3008C114.9431,-136.0077 103.0509,-124.2784 92.6458,-114.0158\"/>\n",
       "<polygon fill=\"#000000\" stroke=\"#000000\" points=\"94.9661,-111.3883 85.3886,-106.8581 90.0506,-116.3721 94.9661,-111.3883\"/>\n",
       "</g>\n",
       "<!-- thu nhập&#45;&gt;lượng mua -->\n",
       "<g id=\"edge3\" class=\"edge\">\n",
       "<title>thu nhập&#45;&gt;lượng mua</title>\n",
       "<path fill=\"none\" stroke=\"#000000\" d=\"M138.1069,-143.9268C134.7355,-125.6511 128.9861,-96.6598 122.2964,-72 119.9788,-63.4566 117.0792,-54.2803 114.2886,-45.9602\"/>\n",
       "<polygon fill=\"#000000\" stroke=\"#000000\" points=\"117.5422,-44.6582 110.9853,-36.3361 110.9214,-46.9307 117.5422,-44.6582\"/>\n",
       "</g>\n",
       "</g>\n",
       "</svg>\n"
      ],
      "text/plain": [
       "<graphviz.dot.Digraph at 0x7fea20268d50>"
      ]
     },
     "execution_count": 2,
     "metadata": {},
     "output_type": "execute_result"
    }
   ],
   "source": [
    "g = gr.Digraph()\n",
    "\n",
    "g.edge(\"chỉ định\", \"tiếp nhận\")\n",
    "g.edge(\"tiếp nhận\", \"lượng mua\")\n",
    "g.edge(\"thu nhập\", \"lượng mua\")\n",
    "g.edge(\"thu nhập\", \"tiếp nhận\")\n",
    "g.node(\"thu nhập\", color=\"blue\")\n",
    "g"
   ]
  },
  {
   "cell_type": "markdown",
   "metadata": {},
   "source": [
    "Theo biểu đồ nhân quả, bạn là người chỉ định gói khuyến mại (push assigned). Việc chỉ định được thiết kế ngẫu nhiên nên không có yếu tố chi phối. Sau đó, bạn có một đỉnh về việc tiếp nhận gói khuyến mại (push delivered). Không phải tất cả những người được chỉ định gói khuyến mại đều tiếp nhận nó, vì thế ở đây xuất hiện sự không tuân thủ (hay sự bất tuân). Cụ thể hơn, có một vài người luôn không nhận: những người không nhận sự can thiệp ngay cả khi họ được chỉ định. Bạn có lý do để nghi ngờ rằng sụ không tuân thủ này không đơn giản là do tình cờ. Bởi vì những người sử dụng điện thoại đời cũ hơn thì không nhận được gói khuyến mại, bạn có thể lập luận rằng thu nhập của khách hàng cũng chi phối sự tiếp nhận gói khuyến mại. Cuối cùng, bạn thu được biến kết quả, lượng mua trong ứng dụng (in app purchase). Nhớ rằng chúng ta không hề biết thu nhập (income) của khách hàng, vì thế chúng ta không thể kiểm soát biến này. Với những lập luận này, hãy cùng kiểm tra xem điều gì sẽ xảy ra nếu chúng ta chỉ sử dụng việc chỉ định gói khuyến mại làm biến can thiệp, cũng như chỉ sử dụng việc tiếp nhận gói khuyến mại làm biến can thiệp. \n",
    "\n",
    "Trong trường hợp đầu tiên, chúng ra sẽ ước lượng tác động nhân quả bằng hiệu số giữa các giá trị trung bình:\n",
    "\n",
    "$\n",
    "ATE = E[Y | chỉ định=1] - E[Y | chỉ định=0]\n",
    "$\n",
    "\n",
    "Như chúng ra đã biết, đây chỉ là ước lượng không thiên lệch cho \\\\(E[Y_1] - E[Y_0]\\\\) nếu thiên lệch \\\\(E[Y_0|chỉ định=0] - E[Y_0|chỉ định=1]\\\\) bằng 0. Bởi vì `chỉ định` là ngẫu nhiên, chúng ta biết rằng thiên lệch bằng 0. Liệu điều này đã giải quyết vấn đề chưa? Không hẳn. Nếu chúng ta làm như vậy, chúng ta thực ra đang đi trả lời cho một câu hỏi khác với câu hỏi ban đầu. Chúng ta sẽ đi tìm **tác động nhân quả của sự chỉ định can thiệp**, chứ không phải của sự can thiệp. Nhưng liệu những điều này có khác nhau và liệu chúng ta có thể ngoại suy tác động nhân quả của sự chỉ định can thiệp lên ATE? Hay nói cách khác, liệu tác động nhân quả của sự chỉ định can thiệp có là ước lượng không thiên lệch của ATE?\n",
    "\n",
    "Hoá ra không phải vậy. Vì có không tuân thủ, kết quả của những người được chỉ định can thiệp sẽ bị thiên về hướng giống với kết quả của những người trong nhóm đối chứng. Không tuân thủ sẽ đảo ngược sự can thiệp một cách ngoài ý muốn, làm cho kết quả của nhóm được can thiệp và nhóm đối chứng tương tự nhau hơn. Đừng nhầm lẫn điều này với sự tương tự giữa các biến. Chúng ta mong muốn các biến trong nhóm được can thiệp và nhóm đối chứng tương đương hay tương đồng. Điều chúng ta không mong muốn xảy ra là chúng sẽ có kết quả tương tự nhau nếu thực sự có tác động can thiệp.\n",
    "\n",
    "Để hiểu rõ điểm này, giả sử ban đầu trong những người luôn nhận, một số được chỉ định vào nhóm đối chứng một cách ngẫu nhiên. Tuy nhiên những người này, bằng một cách nào đó, luôn nhận can thiệp. Do đó về bản chất họ là những người nhận can thiệp bị lẫn trong nhóm đối chứng. Hậu quả là, việc xác định tác động nhân quả trở nên khó khăn hơn khi xuất hiện không tuân thủ. \n",
    "\n",
    "![img](./data/img/late/always_takers.png)\n",
    "\n",
    "Với cùng lập luận, những người luôn không nhận sẽ làm cho những người được chỉ định can thiệp trông như những người không được can thiệp. Theo cách này, **tác động nhân quả của sự chỉ định can thiệp thiên lệch về 0**. Một cách khác để xem xét trường hợp này là tưởng tượng ra một trường hợp cực đoan. Giả sử rằng không tuân thủ rất cao, vì vậy sự chỉ định can thiệp không đưa ra được thông tin gì về can thiệp nhận được (theo IV, có thể nói rằng chúng ta có bước 1 rất kém). Sử dụng `Z` để ký hiệu cho sự chỉ định can thiệp, chúng ta có:\n",
    "\n",
    "$\n",
    "E[Y|Z=1] - E[Y|Z=0] = 0\n",
    "$\n",
    "\n",
    "Điều này là bởi không có liên kết nhân quả giữa chỉ định can thiệp và kết quả. Z chỉ là một biến ngẫu nhiên vô nghĩa."
   ]
  },
  {
   "cell_type": "code",
   "execution_count": 3,
   "metadata": {},
   "outputs": [
    {
     "data": {
      "image/svg+xml": [
       "<?xml version=\"1.0\" encoding=\"UTF-8\" standalone=\"no\"?>\n",
       "<!DOCTYPE svg PUBLIC \"-//W3C//DTD SVG 1.1//EN\"\n",
       " \"http://www.w3.org/Graphics/SVG/1.1/DTD/svg11.dtd\">\n",
       "<!-- Generated by graphviz version 2.40.1 (20161225.0304)\n",
       " -->\n",
       "<!-- Title: %3 Pages: 1 -->\n",
       "<svg width=\"199pt\" height=\"188pt\"\n",
       " viewBox=\"0.00 0.00 198.99 188.00\" xmlns=\"http://www.w3.org/2000/svg\" xmlns:xlink=\"http://www.w3.org/1999/xlink\">\n",
       "<g id=\"graph0\" class=\"graph\" transform=\"scale(1 1) rotate(0) translate(4 184)\">\n",
       "<title>%3</title>\n",
       "<polygon fill=\"#ffffff\" stroke=\"transparent\" points=\"-4,4 -4,-184 194.9919,-184 194.9919,4 -4,4\"/>\n",
       "<!-- chỉ định -->\n",
       "<g id=\"node1\" class=\"node\">\n",
       "<title>chỉ định</title>\n",
       "<ellipse fill=\"none\" stroke=\"#000000\" cx=\"40.2964\" cy=\"-162\" rx=\"40.0939\" ry=\"18\"/>\n",
       "<text text-anchor=\"middle\" x=\"40.2964\" y=\"-158.3\" font-family=\"Times,serif\" font-size=\"14.00\" fill=\"#000000\">chỉ định</text>\n",
       "</g>\n",
       "<!-- tiếp nhận -->\n",
       "<g id=\"node2\" class=\"node\">\n",
       "<title>tiếp nhận</title>\n",
       "<ellipse fill=\"none\" stroke=\"#000000\" cx=\"104.2964\" cy=\"-90\" rx=\"44.6926\" ry=\"18\"/>\n",
       "<text text-anchor=\"middle\" x=\"104.2964\" y=\"-86.3\" font-family=\"Times,serif\" font-size=\"14.00\" fill=\"#000000\">tiếp nhận</text>\n",
       "</g>\n",
       "<!-- lượng mua -->\n",
       "<g id=\"node3\" class=\"node\">\n",
       "<title>lượng mua</title>\n",
       "<ellipse fill=\"none\" stroke=\"#000000\" cx=\"140.2964\" cy=\"-18\" rx=\"50.8918\" ry=\"18\"/>\n",
       "<text text-anchor=\"middle\" x=\"140.2964\" y=\"-14.3\" font-family=\"Times,serif\" font-size=\"14.00\" fill=\"#000000\">lượng mua</text>\n",
       "</g>\n",
       "<!-- tiếp nhận&#45;&gt;lượng mua -->\n",
       "<g id=\"edge1\" class=\"edge\">\n",
       "<title>tiếp nhận&#45;&gt;lượng mua</title>\n",
       "<path fill=\"none\" stroke=\"#000000\" d=\"M113.1953,-72.2022C117.3059,-63.981 122.2759,-54.041 126.8314,-44.9301\"/>\n",
       "<polygon fill=\"#000000\" stroke=\"#000000\" points=\"130.0335,-46.3521 131.3752,-35.8425 123.7725,-43.2216 130.0335,-46.3521\"/>\n",
       "</g>\n",
       "<!-- thu nhập -->\n",
       "<g id=\"node4\" class=\"node\">\n",
       "<title>thu nhập</title>\n",
       "<ellipse fill=\"none\" stroke=\"#0000ff\" cx=\"141.2964\" cy=\"-162\" rx=\"42.4939\" ry=\"18\"/>\n",
       "<text text-anchor=\"middle\" x=\"141.2964\" y=\"-158.3\" font-family=\"Times,serif\" font-size=\"14.00\" fill=\"#000000\">thu nhập</text>\n",
       "</g>\n",
       "<!-- thu nhập&#45;&gt;tiếp nhận -->\n",
       "<g id=\"edge3\" class=\"edge\">\n",
       "<title>thu nhập&#45;&gt;tiếp nhận</title>\n",
       "<path fill=\"none\" stroke=\"#000000\" d=\"M132.1504,-144.2022C127.9255,-135.981 122.8175,-126.041 118.1355,-116.9301\"/>\n",
       "<polygon fill=\"#000000\" stroke=\"#000000\" points=\"121.1493,-115.1371 113.4655,-107.8425 114.9232,-118.3366 121.1493,-115.1371\"/>\n",
       "</g>\n",
       "<!-- thu nhập&#45;&gt;lượng mua -->\n",
       "<g id=\"edge2\" class=\"edge\">\n",
       "<title>thu nhập&#45;&gt;lượng mua</title>\n",
       "<path fill=\"none\" stroke=\"#000000\" d=\"M148.5403,-143.8366C152.2676,-133.513 156.4152,-120.2403 158.2964,-108 160.7269,-92.1857 160.8593,-87.7934 158.2964,-72 156.8785,-63.2621 154.2489,-54.0275 151.4293,-45.7136\"/>\n",
       "<polygon fill=\"#000000\" stroke=\"#000000\" points=\"154.6545,-44.3399 147.9644,-36.1244 148.071,-46.7187 154.6545,-44.3399\"/>\n",
       "</g>\n",
       "</g>\n",
       "</svg>\n"
      ],
      "text/plain": [
       "<graphviz.dot.Digraph at 0x7fea20274590>"
      ]
     },
     "execution_count": 3,
     "metadata": {},
     "output_type": "execute_result"
    }
   ],
   "source": [
    "g = gr.Digraph()\n",
    "\n",
    "g.node(\"chỉ định\")\n",
    "g.edge(\"tiếp nhận\", \"lượng mua\")\n",
    "g.edge(\"thu nhập\", \"lượng mua\")\n",
    "g.edge(\"thu nhập\", \"tiếp nhận\")\n",
    "g.node(\"thu nhập\", color=\"blue\")\n",
    "g"
   ]
  },
  {
   "cell_type": "markdown",
   "metadata": {},
   "source": [
    "OK, vậy là chúng ta đã loại bỏ việc sử dụng tác động nhân quả của chỉ định để ước lượng tác động nhân quả của can thiệp. Vậy làm thế nào chỉ dùng sự tiếp nhận can thiệp?\n",
    "\n",
    "$\n",
    "ATE = E[Y | tiếp nhận=1] - E[Y | tiếp nhận=0]\n",
    "$\n",
    "\n",
    "Một lần nữa, chúng ta cần suy nghĩ liệu điều này có bị thiên lệch hay không, hoặc nếu như \\\\(E[Y_0|tiếp nhận=0] = E[Y_0|tiếp nhận=1]\\\\). Chỉ bằng việc nhìn vào biểu đồ nhân quả phía trên, chúng ta biết rằng những điều này không thể xảy ra. Chúng ta có biến nhiễu không đo lường được (thu nhập) đang \"rình rập\" xung quanh và chắc chắn sẽ làm rối tung hết mọi thứ lên. Như đã nói từ trước, chúng ta biết rằng sự thất bại trong việc phân phối gói khuyến mại, trong trường hợp của chúng ta, gây ra bởi việc khách hàng sử dụng điện thoại đời cũ. Điều này có nghĩa rằng chúng ta có thể có \\\\(E[Y_0|tiếp nhận=0] < E[Y_0|tiếp nhận=1]\\\\). Chúng ta nghĩ rằng trường hợp này có thể xảy ra bởi những khách hàng có thu nhập thấp hơn thì sử dụng điện thoại đời cũ hơn dẫn đến  \\\\(tiếp nhận=0\\\\) và cũng có ít khả năng sử dụng tính năng mua trong ứng dụng \\\\(Y_0\\\\).\n",
    "\n",
    "Vậy là chúng ta không thể sử dụng cả chỉ định can thiệp và tiếp nhận can thiệp để ước lượng ATE. May mắn thay, chúng ta vẫn có thể sử dụng: Biến Công Cụ. Ở đây, chỉ định can thiệp là biến công cụ hoàn hảo cho sự can thiệp. Nó có tính ngẫu nhiên và chỉ tác động đến việc mua trong ứng dụng thông qua sự can thiệp.\n",
    "\n",
    "## Tác Động Can Thiệp Bình Quân Cục Bộ: LATE\n",
    "\n",
    "Tác động can thiệp bình quân cục bộ làm rõ tổng thể mà chúng ta có thể ước lượng tác động nhân quả. Nó cũng là một cách khác để nhìn nhận IV, đưa ra một cách giải thích lý thú về mặt trực giác mà chúng ta có thể vận dụng. Trong IV hiện đại, chúng ta coi biến công cụ như điểm xuất phát cho chuỗi nhân quả: Z gây ra T, T gây ra Y. Trong bối cảnh này, điều kiện loại trừ nghĩa là Z không chi phối Y ngoài kênh tác động lên T. 1St stage được xem là tác động nhân quả của Z lên T. Chúng ta cũng ký hiệu các kết quả tiềm năng với hai chỉ số, trong đó chỉ số đầu ký hiệu sự giả tưởng cho biến công cụ và chỉ số thứ hai cho sự can thiệp\n",
    "\n",
    "$\n",
    "\\text{Kết quả tiềm năng}=\\begin{cases}\n",
    "Y_i(1, 1) \\ \\text{nếu } T_i=1, \\ Z_i=1\\\\\n",
    "Y_i(1, 0) \\ \\text{nếu } T_i=1, \\ Z_i=0\\\\\n",
    "Y_i(0, 1) \\ \\text{nếu } T_i=0, \\ Z_i=1\\\\\n",
    "Y_i(0, 0) \\ \\text{nếu } T_i=0, \\ Z_i=0\\\\\n",
    "\\end{cases}\n",
    "$\n",
    "\n",
    "Theo cách này, sự can thiệp trở thành kết quả, ít nhất trong bước 1. Điều này có nghĩa rằng chúng ta cũng có thể sử dụng ký hiệu để biểu diễn kết quả tiềm năng:\n",
    "\n",
    "$\n",
    "\\text{Can thiệp tiềm năng}=\\begin{cases}\n",
    "T_0 \\ \\text{nếu } Z_i=0 \\\\\n",
    "T_1 \\ \\text{nếu } Z_i=1\n",
    "\\end{cases}\n",
    "$\n",
    "\n",
    "![img](./data/img/late/double_index.png)\n",
    "\n",
    "Giả thiết về Biến Công Cụ có thể được viết lại dưới dạng sau:\n",
    "\n",
    "1. \\\\(T_{i0}, T_{i1} \\perp Z_i \\\\) và \\\\(Y_i(T_{i1},1), Y_i(T_{i0},0) \\perp Z_i \\\\). Đây là giả thiết về tính độc lập. Nó có nghĩa biến công cụ được chỉ định ngẫu nhiên. Hay nói cách khác, Z, biến công cụ, không tương quan với các can thiệp tiềm năng, đồng nghĩa với việc những đối tượng trong những nhóm biến công cụ khác nhau là tương đồng. \n",
    "\n",
    "2. \\\\(Y_i(1, 0)=Y_i(1, 1)=Y_{i1}\\\\) và \\\\(Y_i(1, 0)=Y_i(1, 1)=Y_{i0}\\\\). Đây là điều kiện loại trừ. Nó cho thấy nếu chúng ta đang xem xét các kết quả tiềm năng cho nhóm được can thiệp thì cả hai nhóm biến công cụ như nhau. Nói cách khác, biến công cụ không tác động lên kết quả tiềm năng, đồng nghĩa với việc biến công cụ chỉ tác động lên kết quả thông qua sự can thiệp. \n",
    "\n",
    "3. \\\\(E[T_{i1}-T_{i0}] \\neq 0\\\\). Giả thiết này nói về sự tồn tại của bước 1. Nó cho thấy kết quả tiềm năng của bước 1, hay can thiệp tiềm năng, không giống nhau. Hay nói cách khác biến công cụ tác động lên sự can thiệp.\n",
    "\n",
    "4. \\\\(T_{i1} > T_{i0}\\\\). Đây là giả thiết về tính đơn điệu. Nó cho thấy nếu tất cả mọi người đều có biến công cụ, mức độ can thiệp sẽ cao hơn nếu tất cả mọi người \"tắt\" công cụ.\n",
    "\n",
    "Hãy cùng ôn lại kiến thức về mô hình ước lượng Wald để hiểu hơn về IV:\n",
    "\n",
    "$\n",
    "ATE = \\dfrac{E[Y|Z=1]-E[Y|Z=0]}{E[T|Z=1]-E[T|Z=0]}\n",
    "$\n",
    "\n",
    "Hãy xem xét phần đầu tiên của công thức này, \\\\(E[Y|Z=1]\\\\). Sử dụng điều kiện loại trừ, chúng ta có thể biểu diễn Y theo kết quả tiềm năng như sau. \n",
    "\n",
    "$\n",
    "E[Y_i|Z_i=1]=E[Y_{i0} + T_{i1}(Y_{i1} - Y_{i0})|Z=1]\n",
    "$\n",
    "\n",
    "Sử dụng tính chất độc lập, chúng ta có thể loại bỏ điều kiện trên Z\n",
    "\n",
    "$\n",
    "E[Y_i|Z_i=1]=E[Y_{i0} + T_{i1}(Y_{i1} - Y_{i0})]\n",
    "$\n",
    "\n",
    "Tương tự, chúng ta thu được\n",
    "\n",
    "$\n",
    "E[Y_i|Z_i=0]=E[Y_{i0} + T_{i0}(Y_{i1} - Y_{i0})]\n",
    "$\n",
    "\n",
    "Chúng ta có thể biểu diễn tử số của mô hình ước lượng Wald như sau\n",
    "\n",
    "$\n",
    "E[Y|Z=1]-E[Y|Z=0] = E[(Y_{i1}-Y_{i0})(T_{i1}-T_{i0})]\n",
    "$\n",
    "\n",
    "Sử dụng tính chất đơn điệu, chúng ta biết rằng \\\\(T_{i1}-T_{i0}\\\\) bằng 0 hoặc 1, vì vậy\n",
    "\n",
    "$\n",
    "E[(Y_{i1}-Y_{i0})(T_{i1}-T_{i0})] = E[(Y_{i1}-Y_{i0})|T_{i1}>T_{i0}]P(T_{i1}>T_{i0})\n",
    "$\n",
    "\n",
    "Tương tự với mẫu số của mô hình ước lượng Wald, ta cũng có\n",
    "\n",
    "$\n",
    "E[T|Z=1]-E[T|Z=0]=E[T_{i1}-T_{i0}]=P(T_{i1}>T_{i0})\n",
    "$\n",
    "\n",
    "Từ tất cả các phương trình trên, chúng ta có thể biểu diễn mô hình ước lượng Wald như sau:\n",
    "\n",
    "$\n",
    "ATE = \\dfrac{E[(Y_{i1}-Y_{i0})|T_{i1}>T_{i0}]P(T_{i1}>T_{i0})}{P(T_{i1}>T_{i0})}=E[(Y_{i1}-Y_{i0})|T_{i1}>T_{i0}]\n",
    "$\n",
    "\n",
    "Công thức này có nghĩa ATE được ước lượng bởi IV là ATE trong mẫu với \\\\(T_{i1}>T_{i0}\\\\). Và nếu bạn suy ngẫm về tính tuân thủ, tổng thể ở đây là gì? Đó là tổng thể mà những người có biến công cụ có mức can thiệp cao hơn nếu họ không có biến công cụ. Hay nói cách khác, đây là tổng thể người tuân thủ. Để chúng ta có thể nhớ rõ hơn,\n",
    "\n",
    "1. Người tuân thủ nghĩa là \\\\(T_{i1}>T_{i0}\\\\)\n",
    "2. Người Luôn Không Nhận \\\\(T_{i1}=T_{i0}=0\\\\)\n",
    "3. Người Luôn Nhận \\\\(T_{i1}=T_{i0}=1\\\\)\n",
    "\n",
    "Tóm lại, IV không cung cấp thông tin gì về tác động lên người luôn không nhận, người luôn nhận, hay người chống đối, bởi sự can thiệp không thay đổi đối với những đối tượng này! **Iv chỉ tìm tác động can thiệp cho những người tuân thủ**."
   ]
  },
  {
   "cell_type": "markdown",
   "metadata": {},
   "source": [
    "## Tác động lên sự tương tác\n",
    "\n",
    "Hãy cùng xem tất cả những điều trên đóng vai trò như thế nào trong trường hợp chúng ta đang ước lượng tác động của gói khuyến mại lên lượng mua trong ứng dụng. Chúng ta đã có một biểu đồ nhân quả phía trên, vì vậy chúng ta sẽ không biểu thị lại đồ thị này ở đây nữa. Dữ liệu chúng ta có bao gồm sự chỉ định gói khuyến mại (biến công cụ ngẫu nhiên) và sự tiếp nhận gói khuyến mại (biến can thiệp)."
   ]
  },
  {
   "cell_type": "code",
   "execution_count": 7,
   "metadata": {},
   "outputs": [
    {
     "data": {
      "text/html": [
       "<div>\n",
       "<style scoped>\n",
       "    .dataframe tbody tr th:only-of-type {\n",
       "        vertical-align: middle;\n",
       "    }\n",
       "\n",
       "    .dataframe tbody tr th {\n",
       "        vertical-align: top;\n",
       "    }\n",
       "\n",
       "    .dataframe thead th {\n",
       "        text-align: right;\n",
       "    }\n",
       "</style>\n",
       "<table border=\"1\" class=\"dataframe\">\n",
       "  <thead>\n",
       "    <tr style=\"text-align: right;\">\n",
       "      <th></th>\n",
       "      <th>lượng_mua</th>\n",
       "      <th>chỉ_định</th>\n",
       "      <th>tiếp_nhận</th>\n",
       "    </tr>\n",
       "  </thead>\n",
       "  <tbody>\n",
       "    <tr>\n",
       "      <th>0</th>\n",
       "      <td>47</td>\n",
       "      <td>1</td>\n",
       "      <td>1</td>\n",
       "    </tr>\n",
       "    <tr>\n",
       "      <th>1</th>\n",
       "      <td>43</td>\n",
       "      <td>1</td>\n",
       "      <td>0</td>\n",
       "    </tr>\n",
       "    <tr>\n",
       "      <th>2</th>\n",
       "      <td>51</td>\n",
       "      <td>1</td>\n",
       "      <td>1</td>\n",
       "    </tr>\n",
       "    <tr>\n",
       "      <th>3</th>\n",
       "      <td>49</td>\n",
       "      <td>0</td>\n",
       "      <td>0</td>\n",
       "    </tr>\n",
       "    <tr>\n",
       "      <th>4</th>\n",
       "      <td>79</td>\n",
       "      <td>0</td>\n",
       "      <td>0</td>\n",
       "    </tr>\n",
       "  </tbody>\n",
       "</table>\n",
       "</div>"
      ],
      "text/plain": [
       "   lượng_mua  chỉ_định  tiếp_nhận\n",
       "0         47         1          1\n",
       "1         43         1          0\n",
       "2         51         1          1\n",
       "3         49         0          0\n",
       "4         79         0          0"
      ]
     },
     "execution_count": 7,
     "metadata": {},
     "output_type": "execute_result"
    }
   ],
   "source": [
    "data = pd.read_csv(\"./data/app_engagement_push.csv\").rename(columns=dict(in_app_purchase='lượng_mua',\n",
    "                                                         push_assigned='chỉ_định',\n",
    "                                                         push_delivered='tiếp_nhận'))\n",
    "    \n",
    "data.head()"
   ]
  },
  {
   "cell_type": "markdown",
   "metadata": {},
   "source": [
    "First, lets run OLS to what it would give us."
   ]
  },
  {
   "cell_type": "markdown",
   "metadata": {},
   "source": [
    "Đầu tiên, hãy chạy OLS để xem chúng ta có thể thu được kết quả như thế nào. "
   ]
  },
  {
   "cell_type": "code",
   "execution_count": 8,
   "metadata": {},
   "outputs": [
    {
     "data": {
      "text/html": [
       "<table class=\"simpletable\">\n",
       "<caption>Parameter Estimates</caption>\n",
       "<tr>\n",
       "      <td></td>      <th>Parameter</th> <th>Std. Err.</th> <th>T-stat</th>  <th>P-value</th> <th>Lower CI</th> <th>Upper CI</th>\n",
       "</tr>\n",
       "<tr>\n",
       "  <th>Intercept</th>  <td>69.292</td>    <td>0.3624</td>   <td>191.22</td>  <td>0.0000</td>   <td>68.581</td>   <td>70.002</td> \n",
       "</tr>\n",
       "<tr>\n",
       "  <th>chỉ_định</th>   <td>-17.441</td>   <td>0.5702</td>   <td>-30.590</td> <td>0.0000</td>   <td>-18.559</td>  <td>-16.324</td>\n",
       "</tr>\n",
       "<tr>\n",
       "  <th>tiếp_nhận</th>  <td>27.600</td>    <td>0.6124</td>   <td>45.069</td>  <td>0.0000</td>   <td>26.399</td>   <td>28.800</td> \n",
       "</tr>\n",
       "</table>"
      ],
      "text/plain": [
       "<class 'statsmodels.iolib.table.SimpleTable'>"
      ]
     },
     "execution_count": 8,
     "metadata": {},
     "output_type": "execute_result"
    }
   ],
   "source": [
    "ols = IV2SLS.from_formula(\"lượng_mua ~ 1 + chỉ_định + tiếp_nhận\", data).fit()\n",
    "ols.summary.tables[1]"
   ]
  },
  {
   "cell_type": "markdown",
   "metadata": {},
   "source": [
    "OLS cho thấy tác động can thiệp là 27.60, có nghĩa là gói khuyến mại tăng lượng mua trong ứng dụng thêm 27.6 reais (đơn vị tiền tệ của Brazil). Tuy nhiên, chúng ta có lý do để nghi ngờ rằng đây là một ước lượng chệch. Chúng ta biết rằng những điện thoại cũ hơn gặp khó khăn trong việc nhận gói khuyến mại, vì vậy có thể những khách hàng giàu có hơn với điện thoại mới hơn là những người tuân thủ. Bởi vì những người nhận can thiệp thì có nhiều tiền hơn, chúng ta tin rằng đây là thiên lệch dương và tác động thật sự của gói khuyến mại thấp hơn. Nói cách khác, chúng ta có thể có \\\\(E[Y_0|T=0] < E[Y_0|T=1]\\\\).\n",
    "\n",
    "Hãy thử ước lượng tác động này với Biến Công Cụ. Đầu tiên, hãy chạy bước 1."
   ]
  },
  {
   "cell_type": "code",
   "execution_count": 11,
   "metadata": {},
   "outputs": [
    {
     "data": {
      "text/html": [
       "<table class=\"simpletable\">\n",
       "<caption>Parameter Estimates</caption>\n",
       "<tr>\n",
       "      <td></td>      <th>Parameter</th> <th>Std. Err.</th>   <th>T-stat</th>   <th>P-value</th>  <th>Lower CI</th>  <th>Upper CI</th> \n",
       "</tr>\n",
       "<tr>\n",
       "  <th>Intercept</th> <td>-1.11e-16</td> <td>1.815e-10</td> <td>-6.118e-07</td> <td>1.0000</td>  <td>-3.557e-10</td> <td>3.557e-10</td>\n",
       "</tr>\n",
       "<tr>\n",
       "  <th>chỉ_định</th>   <td>0.7176</td>    <td>0.0064</td>     <td>112.07</td>   <td>0.0000</td>    <td>0.7050</td>    <td>0.7301</td>  \n",
       "</tr>\n",
       "</table>"
      ],
      "text/plain": [
       "<class 'statsmodels.iolib.table.SimpleTable'>"
      ]
     },
     "execution_count": 11,
     "metadata": {},
     "output_type": "execute_result"
    }
   ],
   "source": [
    "first_stage = IV2SLS.from_formula(\"tiếp_nhận ~ 1 + chỉ_định\", data).fit()\n",
    "first_stage.summary.tables[1]"
   ]
  },
  {
   "cell_type": "markdown",
   "metadata": {},
   "source": [
    "Có vẻ như chúng ta có bước 1 tốt. Có 71.8% người nhận được gói khuyến mại trong tổng số những người được chỉ định nhận gói khuyến mại. Điều này cũng có nghĩa rằng chúng ta có khoảng 28% những người luôn không nhận. Chúng ta cũng có lý do chắc chắn để khẳng định rằng không có người luôn nhận bởi tham số hệ số chặn được ước lượng bằng 0. Có nghĩa rằng không ai nhận gói khuyến mại nếu không được chỉ định. Điều này có thể dự đoán được trong phạm vi thiết kế thử nghiệm của chúng ta.\n",
    "\n",
    "Hãy chạy dạng tối giản:"
   ]
  },
  {
   "cell_type": "code",
   "execution_count": 12,
   "metadata": {},
   "outputs": [
    {
     "data": {
      "text/html": [
       "<table class=\"simpletable\">\n",
       "<caption>Parameter Estimates</caption>\n",
       "<tr>\n",
       "      <td></td>      <th>Parameter</th> <th>Std. Err.</th> <th>T-stat</th> <th>P-value</th> <th>Lower CI</th> <th>Upper CI</th>\n",
       "</tr>\n",
       "<tr>\n",
       "  <th>Intercept</th>  <td>69.292</td>    <td>0.3624</td>   <td>191.22</td> <td>0.0000</td>   <td>68.581</td>   <td>70.002</td> \n",
       "</tr>\n",
       "<tr>\n",
       "  <th>chỉ_định</th>   <td>2.3636</td>    <td>0.5209</td>   <td>4.5376</td> <td>0.0000</td>   <td>1.3427</td>   <td>3.3845</td> \n",
       "</tr>\n",
       "</table>"
      ],
      "text/plain": [
       "<class 'statsmodels.iolib.table.SimpleTable'>"
      ]
     },
     "execution_count": 12,
     "metadata": {},
     "output_type": "execute_result"
    }
   ],
   "source": [
    "reduced_form = IV2SLS.from_formula(\"lượng_mua ~ 1 + chỉ_định\", data).fit()\n",
    "reduced_form.summary.tables[1]"
   ]
  },
  {
   "cell_type": "markdown",
   "metadata": {},
   "source": [
    "Dạng tối giản cho thấy rằng tác động nhân quả của chỉ định can thiệp là 2.36. Có nghĩa rằng chỉ định một người nào đó nhận gói khuyến mại làm tăng lượng mua trong ứng dụng thêm 2.36 reais.\n",
    "\n",
    "Nếu chúng ta chia dạng tối giản cho bước 1, chúng ta chia tác động của biến công cụ cho các đơn vị can thiệp, thu được \\\\(2.3636/0.7176=3.29\\\\). Chạy 2SLS, chúng ta thu được ước lượng tương tự, với sai số chuẩn thích hợp. "
   ]
  },
  {
   "cell_type": "code",
   "execution_count": 13,
   "metadata": {},
   "outputs": [
    {
     "data": {
      "text/html": [
       "<table class=\"simpletable\">\n",
       "<caption>Parameter Estimates</caption>\n",
       "<tr>\n",
       "      <td></td>      <th>Parameter</th> <th>Std. Err.</th> <th>T-stat</th> <th>P-value</th> <th>Lower CI</th> <th>Upper CI</th>\n",
       "</tr>\n",
       "<tr>\n",
       "  <th>Intercept</th>  <td>69.292</td>    <td>0.3624</td>   <td>191.22</td> <td>0.0000</td>   <td>68.581</td>   <td>70.002</td> \n",
       "</tr>\n",
       "<tr>\n",
       "  <th>tiếp_nhận</th>  <td>3.2938</td>    <td>0.7165</td>   <td>4.5974</td> <td>0.0000</td>   <td>1.8896</td>   <td>4.6981</td> \n",
       "</tr>\n",
       "</table>"
      ],
      "text/plain": [
       "<class 'statsmodels.iolib.table.SimpleTable'>"
      ]
     },
     "execution_count": 13,
     "metadata": {},
     "output_type": "execute_result"
    }
   ],
   "source": [
    "iv = IV2SLS.from_formula(\"lượng_mua ~ 1 + [tiếp_nhận ~ chỉ_định]\", data).fit()\n",
    "iv.summary.tables[1]"
   ]
  },
  {
   "cell_type": "markdown",
   "metadata": {},
   "source": [
    "Kết quả sử dụng 2SLS thu được thấp hơn nhiều so với kết quả sử dụng OLS: 3.29 so với 27.60. Điều này hợp lý bởi tác động nhân quả ước lượng bởi OLS chệch dương. Chúng ta cũng cần phải nhắc lại về LATE. 3.29 là tác động nhân quả trung bình lên những người tuân thủ. Đáng tiếc rằng chúng ta không thể khẳng định bất cứ điều gì về những người luôn không nhận. Có nghĩa rằng chúng ta đang ước lượng tác động lên phân khúc khách hàng giàu hơn của tổng thể, những người sử dụng điện thoại đời mới hơn. \n",
    "\n",
    "## Ý tưởng chủ đạo\n",
    "\n",
    "Trong chương này, chúng ta đã xem xét một cách nhìn mới hơn về Biến Công Cụ. Chúng ta đã thấy làm thế nào mà IV được coi như một mắt xích trong chuỗi nhân quả, biến công cụ gây ra sự can thiệp, và sự can thiệp lại gây ra kết quả. Theo cách nhìn này, chúng ta đã xem xét tính tuân thủ để hiểu về ATE trong ước lượng IV, và chúng ta khám phá ra nó chính là LATE của những người tuân thủ. \n",
    "\n",
    "## Tài liệu tham khảo\n",
    "Tôi muốn dành loạt bài viết này như lời cảm ơn tới Joshua Angrist, Alberto Abadie và Christopher Walters bởi lớp học Kinh tế lượng tuyệt vời của họ. Hầu hết những ý tưởng trong chương này được đúc kết từ những bài giảng của họ tại Hiệp hội kinh tế Hoa Kỳ. Lắng nghe các bài giảng của họ giúp tôi có thêm động lực đi qua một năm 2020 đầy khó khăn này.\n",
    "\n",
    "* [Kinh tế lượng với dữ liệu chéo](https://www.aeaweb.org/conference/cont-ed/2017-webcasts)\n",
    "* [Luyện chưởng Kinh tế lượng gần như vô hại](https://www.aeaweb.org/conference/cont-ed/2020-webcasts)\n",
    "\n",
    "Tôi cũng trích dẫn một cuốn sách tuyệt vời từ Angrist. Họ đã thành công trong việc chỉ cho tôi thấy rằng Kinh tế lượng, hoặc là Lượng theo cách gọi của họ, không chỉ cực kỳ hữu ích mà còn vô cùng thú vị. \n",
    "\n",
    "* [Kinh tế lượng gần như vô hại](https://www.mostlyharmlesseconometrics.com/)\n",
    "* [Luyện chưởng 'Lượng](https://www.masteringmetrics.com/)\n",
    "\n",
    "Cuối cùng, không thể không nhắc đến cuốn sách được viết bởi Miguel Hernan và Jamie Robins. Nó là người bạn đồng hành đáng tin cậy giúp tôi tìm lời giải đáp cho những câu hỏi hóc búa nhất về tính nhân quả. \n",
    "\n",
    "* [Sách Suy luận nhân quả](https://www.hsph.harvard.edu/miguel-hernan/causal-inference-book/)\n"
   ]
  },
  {
   "cell_type": "markdown",
   "metadata": {},
   "source": [
    "# Bảng Từ Viết tắt \n",
    "|Viết tắt| Tiếng Anh | Tiếng Việt |\n",
    "| --- | --- | --- | \n",
    "|2SLS|Two-Stage least square|Bình phương Tối thiểu Hai bước| \n",
    "|ATE|Average Treatment Effect|Tác động Can thiệp Trung bình| \n",
    "|IV|Instrumental Variable|Biến Công cụ| \n",
    "|LATE|Local Average Treatment Effect|Tác động Can thiệp Bình quân Cục bộ| \n",
    "|RCT|Randomized Controlled Trial|Thử nghiệm Ngẫu nhiên Đối chứng| \n"
   ]
  },
  {
   "cell_type": "markdown",
   "metadata": {},
   "source": [
    "# Bảng Thuật ngữ \n",
    "| Thuật ngữ | Tiếng Anh |\n",
    "| --- | --- | \n",
    "|biến công cụ|instrumental-variable, instrumental variable, instrument, instrument variable| \n",
    "|biến kết quả|outcome variable| \n",
    "|biến nhiễu|confounder, confounding variable| \n",
    "|bước 1|1st-stage, first stage, 1st stage| \n",
    "|can thiệp tiềm năng|potential treatment| \n",
    "|chệch|biased| \n",
    "|dạng tối giản|reduced form, reduced-form| \n",
    "|dữ liệu|data| \n",
    "|giá trị trung bình|mean| \n",
    "|giả thiết|assumption| \n",
    "|giả tưởng|counterfactual| \n",
    "|hệ số chặn|intercept| \n",
    "|không thiên lệch|unbiased| \n",
    "|kết quả|outcome| \n",
    "|kết quả tiềm năng|potential outcome| \n",
    "|mô hình ước lượng|estimator| \n",
    "|mẫu|sample| \n",
    "|ngoại suy|extrapolation, extrapolate| \n",
    "|nhóm được can thiệp|treatment group, test group| \n",
    "|nhóm đối chứng|control group, untreated group| \n",
    "|ols|ols| \n",
    "|sai số chuẩn|standard error| \n",
    "|thiên lệch|bias| \n",
    "|thiết kế bán can thiệp|quasi-experimental design| \n",
    "|tuân thủ|compliance| \n",
    "|tác động can thiệp|treatment effect, treatment impact| \n",
    "|tác động can thiệp bình quân cục bộ|local average treatment effect| \n",
    "|tác động nhân quả trung bình|average causal effect| \n",
    "|tính ngoại suy|external validity| \n",
    "|tính nội suy|internal validity| \n",
    "|tương quan|correlate| \n",
    "|tổng thể|population| \n",
    "|điều kiện loại trừ|exclusion restriction| \n",
    "|được can thiệp|treated| \n",
    "|đỉnh|node| \n"
   ]
  }
 ],
 "metadata": {
  "hide_input": false,
  "kernelspec": {
   "display_name": "Python 3",
   "language": "python",
   "name": "python3"
  },
  "language_info": {
   "codemirror_mode": {
    "name": "ipython",
    "version": 3
   },
   "file_extension": ".py",
   "mimetype": "text/x-python",
   "name": "python",
   "nbconvert_exporter": "python",
   "pygments_lexer": "ipython3",
   "version": "3.7.7"
  },
  "toc": {
   "base_numbering": 1,
   "nav_menu": {},
   "number_sections": true,
   "sideBar": true,
   "skip_h1_title": false,
   "title_cell": "Table of Contents",
   "title_sidebar": "Contents",
   "toc_cell": true,
   "toc_position": {},
   "toc_section_display": true,
   "toc_window_display": true
  }
 },
 "nbformat": 4,
 "nbformat_minor": 4
}
